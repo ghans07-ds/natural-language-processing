{
 "cells": [
  {
   "cell_type": "code",
   "execution_count": 1,
   "metadata": {},
   "outputs": [],
   "source": [
    "from bs4 import BeautifulSoup\n",
    "from requests import get\n",
    "import pandas as pd\n",
    "from time import sleep,time\n",
    "from random import randint\n",
    "from IPython.core.display import clear_output\n",
    "import json"
   ]
  },
  {
   "cell_type": "code",
   "execution_count": 2,
   "metadata": {},
   "outputs": [],
   "source": [
    "import string\n",
    "import re\n",
    "import gensim\n",
    "import nltk\n",
    "from nltk.tokenize import word_tokenize,sent_tokenize"
   ]
  },
  {
   "cell_type": "code",
   "execution_count": 23,
   "metadata": {},
   "outputs": [],
   "source": [
    "from nltk.corpus import stopwords\n",
    "stop_words = set(stopwords.words('english')) \n",
    "harry_corpus=[]"
   ]
  },
  {
   "cell_type": "code",
   "execution_count": 22,
   "metadata": {},
   "outputs": [],
   "source": [
    "harry_books=[\"Harry-Potter-and-the-Philosophers-Stone\",\"Harry-Potter-and-the-Chamber-of-Secrets\",\"Harry-Potter-and-the-Goblet-of-Fire\",\n",
    "             \"Harry-Potter-and-the-Prisoner-of-Azkaban\",\"Harry-Potter-and-the-Order-of-the-Phoenix\",\"Harry-Potter-and-the-Half-Blood-Prince\",\n",
    "            \"Harry-Potter-and-the-Deathly-Hallows\"]"
   ]
  },
  {
   "cell_type": "code",
   "execution_count": 44,
   "metadata": {},
   "outputs": [],
   "source": [
    "book=harry_books[6]"
   ]
  },
  {
   "cell_type": "code",
   "execution_count": 45,
   "metadata": {},
   "outputs": [
    {
     "name": "stdout",
     "output_type": "stream",
     "text": [
      "Request:37; Frequency: 1.1039295879723432 requests/s\n"
     ]
    }
   ],
   "source": [
    "\n",
    "\n",
    "start_time = time()\n",
    "requests = 0\n",
    "\n",
    "response=get(\"https://www.bookscool.com/en/\"+str(book)+\"/1\")\n",
    "html = BeautifulSoup(response.text,'html.parser')\n",
    "page=html.find(class_=\"nav nav-underline\")\n",
    "last_page=int(page.findAll('a')[-1].text)\n",
    "\n",
    "corpus=\"\"\n",
    "for i in range(0,last_page+1):\n",
    "        response=get(\"https://www.bookscool.com/en/\"+str(book)+\"/\"+str(i)+\"\")\n",
    "        html = BeautifulSoup(response.text,'html.parser')    \n",
    "        pages=html.find(class_=\"text-muted pt-3\")\n",
    "        pages_text=pages.findAll('br')[2:-1]\n",
    "        \n",
    "        requests+=1\n",
    "        elapsed_time=time()-start_time\n",
    "        print('Request:{}; Frequency: {} requests/s'.format(requests, requests/elapsed_time))\n",
    "        clear_output(wait = True)\n",
    "        \n",
    "        vachan=\"\"\n",
    "        for i in range(len(pages_text)):\n",
    "            vachan+=pages_text[i].text+\" \"\n",
    "        corpus+=vachan+\" \""
   ]
  },
  {
   "cell_type": "code",
   "execution_count": 46,
   "metadata": {},
   "outputs": [],
   "source": [
    "harry_corpus.append(corpus)  "
   ]
  },
  {
   "cell_type": "code",
   "execution_count": 48,
   "metadata": {},
   "outputs": [],
   "source": [
    "corpus=\" \".join(harry_corpus)"
   ]
  },
  {
   "cell_type": "raw",
   "metadata": {},
   "source": [
    "file1 = open(\"E://DATA Science//Datasets//Kaggle//Word2vec//myfile.txt\",\"w\") \n",
    "file1.write(corpus)"
   ]
  },
  {
   "cell_type": "code",
   "execution_count": 62,
   "metadata": {},
   "outputs": [],
   "source": [
    "clean_text=re.sub(r\"[,;@#?“”!&\\\"\\\")($\\'’]+\\ *\", \" \",corpus)\n",
    "# clean_text=re.sub(r\"[\\\"\\\"]+\\ *\",\" \",clean_text)"
   ]
  },
  {
   "cell_type": "code",
   "execution_count": 64,
   "metadata": {},
   "outputs": [],
   "source": [
    "data=[]\n",
    "for i in sent_tokenize(clean_text):\n",
    "    data1=[]\n",
    "    for j in word_tokenize(i):\n",
    "        if j not in stop_words:\n",
    "            data1.append(j.lower())\n",
    "    data.append(data1)"
   ]
  },
  {
   "cell_type": "code",
   "execution_count": 73,
   "metadata": {},
   "outputs": [],
   "source": [
    "model = gensim.models.Word2Vec(size=100, window=5, min_count=2, sg=1, workers=10)\n",
    "model.build_vocab(data)"
   ]
  },
  {
   "cell_type": "code",
   "execution_count": 74,
   "metadata": {},
   "outputs": [
    {
     "name": "stderr",
     "output_type": "stream",
     "text": [
      "C:\\Users\\dell\\Anaconda3\\lib\\site-packages\\ipykernel_launcher.py:1: DeprecationWarning: Call to deprecated `iter` (Attribute will be removed in 4.0.0, use self.epochs instead).\n",
      "  \"\"\"Entry point for launching an IPython kernel.\n"
     ]
    },
    {
     "data": {
      "text/plain": [
       "(124220, 148840)"
      ]
     },
     "execution_count": 74,
     "metadata": {},
     "output_type": "execute_result"
    }
   ],
   "source": [
    "model.train(sentences=data, total_examples=len(data), epochs=model.iter)"
   ]
  },
  {
   "cell_type": "code",
   "execution_count": 75,
   "metadata": {},
   "outputs": [
    {
     "data": {
      "text/plain": [
       "[('gone', 0.9992308020591736),\n",
       " ('anyone', 0.9991603493690491),\n",
       " ('lot', 0.9991506934165955),\n",
       " ('let', 0.999133825302124),\n",
       " ('loudly', 0.9991320967674255),\n",
       " ('kept', 0.9991299510002136),\n",
       " ('letters', 0.9991264343261719),\n",
       " ('send', 0.9991152286529541),\n",
       " ('followers', 0.9991083145141602),\n",
       " ('grown', 0.999108076095581)]"
      ]
     },
     "execution_count": 75,
     "metadata": {},
     "output_type": "execute_result"
    }
   ],
   "source": [
    "w1 = \"ron\"\n",
    "model.wv.most_similar(positive=w1, topn=10)"
   ]
  },
  {
   "cell_type": "code",
   "execution_count": null,
   "metadata": {},
   "outputs": [],
   "source": []
  }
 ],
 "metadata": {
  "kernelspec": {
   "display_name": "Python 3",
   "language": "python",
   "name": "python3"
  },
  "language_info": {
   "codemirror_mode": {
    "name": "ipython",
    "version": 3
   },
   "file_extension": ".py",
   "mimetype": "text/x-python",
   "name": "python",
   "nbconvert_exporter": "python",
   "pygments_lexer": "ipython3",
   "version": "3.7.4"
  }
 },
 "nbformat": 4,
 "nbformat_minor": 2
}
